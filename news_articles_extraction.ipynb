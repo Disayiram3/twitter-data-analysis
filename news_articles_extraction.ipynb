{
  "nbformat": 4,
  "nbformat_minor": 0,
  "metadata": {
    "colab": {
      "provenance": []
    },
    "kernelspec": {
      "name": "python3",
      "display_name": "Python 3"
    },
    "language_info": {
      "name": "python"
    }
  },
  "cells": [
    {
      "cell_type": "code",
      "source": [
        "import os\n",
        "os.environ['NEWS_API_KEY'] = 'bca996d07c1842d7846eb24ae94d8bea'\n"
      ],
      "metadata": {
        "id": "kwsXjAmF1_U-"
      },
      "execution_count": null,
      "outputs": []
    },
    {
      "cell_type": "code",
      "source": [
        "!pip install requests pandas\n"
      ],
      "metadata": {
        "colab": {
          "base_uri": "https://localhost:8080/"
        },
        "id": "PnpgoK7r2GyP",
        "outputId": "376ebc11-9159-4b00-885b-607a0377435e"
      },
      "execution_count": null,
      "outputs": [
        {
          "output_type": "stream",
          "name": "stdout",
          "text": [
            "Requirement already satisfied: requests in /usr/local/lib/python3.10/dist-packages (2.31.0)\n",
            "Requirement already satisfied: pandas in /usr/local/lib/python3.10/dist-packages (2.0.3)\n",
            "Requirement already satisfied: charset-normalizer<4,>=2 in /usr/local/lib/python3.10/dist-packages (from requests) (3.3.2)\n",
            "Requirement already satisfied: idna<4,>=2.5 in /usr/local/lib/python3.10/dist-packages (from requests) (3.7)\n",
            "Requirement already satisfied: urllib3<3,>=1.21.1 in /usr/local/lib/python3.10/dist-packages (from requests) (2.0.7)\n",
            "Requirement already satisfied: certifi>=2017.4.17 in /usr/local/lib/python3.10/dist-packages (from requests) (2024.2.2)\n",
            "Requirement already satisfied: python-dateutil>=2.8.2 in /usr/local/lib/python3.10/dist-packages (from pandas) (2.8.2)\n",
            "Requirement already satisfied: pytz>=2020.1 in /usr/local/lib/python3.10/dist-packages (from pandas) (2023.4)\n",
            "Requirement already satisfied: tzdata>=2022.1 in /usr/local/lib/python3.10/dist-packages (from pandas) (2024.1)\n",
            "Requirement already satisfied: numpy>=1.21.0 in /usr/local/lib/python3.10/dist-packages (from pandas) (1.25.2)\n",
            "Requirement already satisfied: six>=1.5 in /usr/local/lib/python3.10/dist-packages (from python-dateutil>=2.8.2->pandas) (1.16.0)\n"
          ]
        }
      ]
    },
    {
      "cell_type": "code",
      "source": [
        "import requests\n",
        "import pandas as pd\n",
        "import os\n",
        "from google.colab import drive\n",
        "\n",
        "# Ensure the drive is mounted\n",
        "drive.mount('/content/drive')\n",
        "\n",
        "def fetch_articles(api_key, from_date, to_date, language='en', total_articles=15):\n",
        "    print(\"Fetching articles...\")\n",
        "    url = 'https://newsapi.org/v2/everything'\n",
        "    articles = []\n",
        "    pageSize = 30  # Maximum reasonable pageSize considering the API limits\n",
        "    totalPages = (total_articles + pageSize - 1) // pageSize\n",
        "    query = 'news'  # Using a general keyword to fetch broad results\n",
        "\n",
        "    for page in range(1, totalPages + 1):\n",
        "        params = {\n",
        "            'q': query,  # Added a generic query for broader results\n",
        "            'from': from_date,\n",
        "            'to': to_date,\n",
        "            'language': language,\n",
        "            'pageSize': pageSize,\n",
        "            'page': page,\n",
        "            'apiKey': api_key\n",
        "        }\n",
        "        try:\n",
        "            response = requests.get(url, params=params)\n",
        "            response.raise_for_status()  # Will raise an exception for 4XX/5XX errors\n",
        "            data = response.json()\n",
        "            articles.extend(data['articles'])\n",
        "            if len(articles) >= total_articles:\n",
        "                break\n",
        "        except requests.exceptions.RequestException as e:\n",
        "            print(f\"Failed to fetch articles due to: {e}\")\n",
        "            break\n",
        "\n",
        "    return articles[:total_articles]\n",
        "\n",
        "def save_articles_to_csv(articles, path):\n",
        "    df = pd.DataFrame(articles)\n",
        "    df.to_csv(path, index=False)\n",
        "    print(f\"File saved at: {path}\")\n",
        "\n",
        "def get_file_path(filename):\n",
        "    return f'/content/drive/My Drive/GoogleColab/news_articles{filename}'\n",
        "\n",
        "def main():\n",
        "    api_key = os.getenv('NEWS_API_KEY')  # Check that your environment variable is properly set\n",
        "    from_date = '2024-04-29'\n",
        "    to_date = '2024-05-07'\n",
        "    path = get_file_path('articles.csv')\n",
        "\n",
        "    articles = fetch_articles(api_key, from_date, to_date)\n",
        "\n",
        "    if articles:\n",
        "        articles_data = [{'title': article['title'], 'content': article.get('content', 'No content available')} for article in articles]\n",
        "        save_articles_to_csv(articles_data, path)\n",
        "        print(f\"Saved {len(articles_data)} articles to '{path}'\")\n",
        "    else:\n",
        "        print(\"No articles found or fetched.\")\n",
        "\n",
        "if __name__ == '__main__':\n",
        "    main()\n"
      ],
      "metadata": {
        "colab": {
          "base_uri": "https://localhost:8080/"
        },
        "id": "be-XG_N22KtD",
        "outputId": "c6f803a3-53a0-4e78-c9e8-c053ffb712e9"
      },
      "execution_count": null,
      "outputs": [
        {
          "output_type": "stream",
          "name": "stdout",
          "text": [
            "Drive already mounted at /content/drive; to attempt to forcibly remount, call drive.mount(\"/content/drive\", force_remount=True).\n",
            "Fetching articles...\n",
            "File saved at: /content/drive/My Drive/GoogleColab/api_news_articlesarticles.csv\n",
            "Saved 30 articles to '/content/drive/My Drive/GoogleColab/api_news_articlesarticles.csv'\n"
          ]
        }
      ]
    }
  ]
}