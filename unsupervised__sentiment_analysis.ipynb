{
  "nbformat": 4,
  "nbformat_minor": 0,
  "metadata": {
    "colab": {
      "provenance": []
    },
    "kernelspec": {
      "name": "python3",
      "display_name": "Python 3"
    },
    "language_info": {
      "name": "python"
    }
  },
  "cells": [
    {
      "cell_type": "code",
      "execution_count": null,
      "metadata": {
        "colab": {
          "base_uri": "https://localhost:8080/"
        },
        "id": "GlhEDZL0nDsB",
        "outputId": "152fc5e8-393b-4c44-d9ba-2fea3e05690e"
      },
      "outputs": [
        {
          "output_type": "stream",
          "name": "stdout",
          "text": [
            "Drive already mounted at /content/drive; to attempt to forcibly remount, call drive.mount(\"/content/drive\", force_remount=True).\n"
          ]
        }
      ],
      "source": [
        "from google.colab import drive\n",
        "drive.mount('/content/drive')\n"
      ]
    },
    {
      "cell_type": "code",
      "source": [
        "import pandas as pd\n",
        "\n",
        "# Replace 'your_file.csv' with the path to your uploaded CSV file\n",
        "df = pd.read_csv('/content/drive/MyDrive/GoogleColab/web social media anlysis and visualization/New_year_resolutions_data.csv', encoding='ISO-8859-1')\n",
        "print(df.head())  # Display the first few entries to check the data\n"
      ],
      "metadata": {
        "colab": {
          "base_uri": "https://localhost:8080/"
        },
        "id": "SEMP0aMtnbBT",
        "outputId": "46ac8f62-3f23-45b9-81ed-7d02e9feaf43"
      },
      "execution_count": null,
      "outputs": [
        {
          "output_type": "stream",
          "name": "stdout",
          "text": [
            "                                   resolution_topics  gender             name  \\\n",
            "0                                      Eat healthier  female      Dena_Marina   \n",
            "1  Humor about Personal Growth and Interests Reso...  female     ninjagirl325   \n",
            "2                                  Be More Confident    male     RickyDelReyy   \n",
            "3                                              Other    male        CalmareNJ   \n",
            "4                                   Be more positive  female  welovatoyoudemi   \n",
            "\n",
            "  Resolution_Category  retweet_count  \\\n",
            "0    Health & Fitness            0.0   \n",
            "1               Humor            1.0   \n",
            "2     Personal Growth            0.0   \n",
            "3       Philanthropic            0.0   \n",
            "4     Personal Growth            0.0   \n",
            "\n",
            "                                                text   tweet_created  \\\n",
            "0  #NewYearsResolution :: Read more books, No scr...  12/31/14 10:48   \n",
            "1  #NewYearsResolution Finally master @ZJ10 's pa...  12/31/14 10:47   \n",
            "2  #NewYearsResolution to stop being so damn perf...  12/31/14 10:46   \n",
            "3  My #NewYearsResolution is to help my disabled ...  12/31/14 10:45   \n",
            "4  #NewYearsResolution #2015Goals #2015bucketlist...  12/31/14 10:44   \n",
            "\n",
            "  tweet_date      tweet_id             tweet_location tweet_state tweet_region  \n",
            "0   12/31/14  5.500000e+17        Southern California          CA         West  \n",
            "1   12/31/14  5.500000e+17                 New Jersey          NJ    Northeast  \n",
            "2   12/31/14  5.500000e+17                  Hollywood          CA         West  \n",
            "3   12/31/14  5.500000e+17                  Metro NYC          NY    Northeast  \n",
            "4   12/31/14  5.500000e+17  Pittsburgh, Pennsylvania           PA    Northeast  \n"
          ]
        }
      ]
    },
    {
      "cell_type": "code",
      "source": [
        "import re\n",
        "import nltk\n",
        "from nltk.corpus import stopwords\n",
        "from nltk.stem import WordNetLemmatizer\n",
        "from nltk.tokenize import word_tokenize\n",
        "\n",
        "nltk.download('punkt')\n",
        "nltk.download('stopwords')\n",
        "nltk.download('wordnet')\n",
        "\n",
        "stop_words = set(stopwords.words('english'))\n",
        "lemmatizer = WordNetLemmatizer()\n",
        "\n",
        "def clean_text(text):\n",
        "    # Convert text to lowercase\n",
        "    text = text.lower()\n",
        "\n",
        "    # Remove all non-ASCII characters\n",
        "    text = re.sub(r'[^\\x00-\\x7F]+', ' ', text)  # Regex to remove non-ASCII characters\n",
        "\n",
        "    # Remove emails\n",
        "    text = re.sub(r'\\b[\\w.-]+?@\\w+?\\.\\w+?\\b', ' ', text)\n",
        "\n",
        "    # Remove URLs\n",
        "    text = re.sub(r'http[s]?://(?:[a-zA-Z]|[0-9]|[$-_@.&+]|[!*\\\\(\\\\),]|(?:%[0-9a-fA-F][0-9a-fA-F]))+', ' ', text)\n",
        "\n",
        "    # Remove numbers\n",
        "    text = re.sub(r'\\b\\d+\\b', ' ', text)\n",
        "\n",
        "    # Remove punctuation and extra spaces\n",
        "    text = re.sub(r'[^\\w\\s]', ' ', text)\n",
        "    text = re.sub(r'\\s+', ' ', text).strip()\n",
        "\n",
        "    # Tokenization\n",
        "    tokens = word_tokenize(text)\n",
        "\n",
        "    # Lemmatize and remove stopwords\n",
        "    cleaned_tokens = [lemmatizer.lemmatize(word) for word in tokens if word not in stop_words and len(word) > 1]\n",
        "\n",
        "    return ' '.join(cleaned_tokens)\n",
        "\n",
        "\n",
        "# Apply cleaning function to the text column\n",
        "# Replace 'text_column_name' with the actual name of your text column\n",
        "df['cleaned_text'] = df['text'].apply(clean_text)\n",
        "print(df['cleaned_text'].head())\n"
      ],
      "metadata": {
        "colab": {
          "base_uri": "https://localhost:8080/"
        },
        "id": "gEgJ6S4wn4oE",
        "outputId": "f511cb39-8723-4cd1-c909-6d54fb2525c1"
      },
      "execution_count": null,
      "outputs": [
        {
          "output_type": "stream",
          "name": "stderr",
          "text": [
            "[nltk_data] Downloading package punkt to /root/nltk_data...\n",
            "[nltk_data]   Unzipping tokenizers/punkt.zip.\n",
            "[nltk_data] Downloading package stopwords to /root/nltk_data...\n",
            "[nltk_data]   Unzipping corpora/stopwords.zip.\n",
            "[nltk_data] Downloading package wordnet to /root/nltk_data...\n"
          ]
        },
        {
          "output_type": "stream",
          "name": "stdout",
          "text": [
            "0    newyearsresolution read book scrolling fb chec...\n",
            "1    newyearsresolution finally master zj10 part ki...\n",
            "2                    newyearsresolution stop damn perf\n",
            "3    newyearsresolution help disabled patient disco...\n",
            "4    newyearsresolution 2015goals 2015bucketlist co...\n",
            "Name: cleaned_text, dtype: object\n"
          ]
        }
      ]
    },
    {
      "cell_type": "code",
      "source": [
        "nltk.download('vader_lexicon')\n",
        "from nltk.sentiment import SentimentIntensityAnalyzer\n",
        "\n",
        "sia = SentimentIntensityAnalyzer()\n",
        "\n",
        "# Get sentiment scores\n",
        "df['sentiments'] = df['cleaned_text'].apply(lambda text: sia.polarity_scores(text))\n",
        "df['compound'] = df['sentiments'].apply(lambda d: d['compound'])\n",
        "df['sentiment_type']=''\n",
        "df.loc[df.compound>0,'sentiment_type']='POSITIVE'\n",
        "df.loc[df.compound==0,'sentiment_type']='NEUTRAL'\n",
        "df.loc[df.compound<0,'sentiment_type']='NEGATIVE'\n",
        "\n",
        "print(df[['cleaned_text', 'compound', 'sentiment_type']].head())\n"
      ],
      "metadata": {
        "colab": {
          "base_uri": "https://localhost:8080/"
        },
        "id": "HlOD-EmxoQ6f",
        "outputId": "6e1abbf3-2de3-4c69-d4d3-13288372ac9b"
      },
      "execution_count": null,
      "outputs": [
        {
          "output_type": "stream",
          "name": "stderr",
          "text": [
            "[nltk_data] Downloading package vader_lexicon to /root/nltk_data...\n"
          ]
        },
        {
          "output_type": "stream",
          "name": "stdout",
          "text": [
            "                                        cleaned_text  compound sentiment_type\n",
            "0  newyearsresolution read book scrolling fb chec...    0.4588       POSITIVE\n",
            "1  newyearsresolution finally master zj10 part ki...    0.0000        NEUTRAL\n",
            "2                  newyearsresolution stop damn perf   -0.5994       NEGATIVE\n",
            "3  newyearsresolution help disabled patient disco...    0.8020       POSITIVE\n",
            "4  newyearsresolution 2015goals 2015bucketlist co...    0.0000        NEUTRAL\n"
          ]
        }
      ]
    },
    {
      "cell_type": "code",
      "source": [
        "import seaborn as sns\n",
        "import matplotlib.pyplot as plt\n",
        "\n",
        "sns.countplot(x='sentiment_type', data=df)\n",
        "plt.title('Sentiment Type Distribution')\n",
        "plt.show()\n"
      ],
      "metadata": {
        "colab": {
          "base_uri": "https://localhost:8080/",
          "height": 472
        },
        "id": "mBv7vWi1oYdO",
        "outputId": "27117bbf-9646-4f1a-e399-c75f0b9586ec"
      },
      "execution_count": null,
      "outputs": [
        {
          "output_type": "display_data",
          "data": {
            "text/plain": [
              "<Figure size 640x480 with 1 Axes>"
            ],
            "image/png": "[encoded data removed]"
          },
          "metadata": {}
        }
      ]
    },
    {
      "cell_type": "code",
      "source": [
        "# Assuming 'df' is your original DataFrame\n",
        "\n",
        "# Filter positive and negative sentiments\n",
        "positive_df = df[df['sentiment_type'] == 'POSITIVE']\n",
        "negative_df = df[df['sentiment_type'] == 'NEGATIVE']\n",
        "\n",
        "# Balance the dataset\n",
        "min_count = min(len(positive_df), len(negative_df))\n",
        "balanced_positive = positive_df.sample(n=min_count, random_state=42)\n",
        "balanced_negative = negative_df.sample(n=min_count, random_state=42)\n",
        "\n",
        "# Concatenate the balanced data\n",
        "balanced_df = pd.concat([balanced_positive, balanced_negative])\n"
      ],
      "metadata": {
        "id": "uBuQwn37o6Z_"
      },
      "execution_count": null,
      "outputs": []
    },
    {
      "cell_type": "code",
      "source": [
        "# Shuffle the dataset\n",
        "balanced_df = balanced_df.sample(frac=1, random_state=42).reset_index(drop=True)\n",
        "print(balanced_df.head())\n"
      ],
      "metadata": {
        "colab": {
          "base_uri": "https://localhost:8080/"
        },
        "id": "vDWG-z0xo8RU",
        "outputId": "c48a2637-8d5e-4d80-eaec-940f3e62b221"
      },
      "execution_count": null,
      "outputs": [
        {
          "output_type": "stream",
          "name": "stdout",
          "text": [
            "                                   resolution_topics  gender             name  \\\n",
            "0                                     Try new things  female  EndlessSummer17   \n",
            "1                                   Be more positive    male       tyarnold18   \n",
            "2  Humor about Family/Friends/Relationships Resol...    male        dinfontay   \n",
            "3                                 Take more vacation    male     perrycorneau   \n",
            "4  Humor about Time Management/Organization Resol...    male          MPasset   \n",
            "\n",
            "    Resolution_Category  retweet_count  \\\n",
            "0       Personal Growth            NaN   \n",
            "1       Personal Growth            NaN   \n",
            "2                 Humor            0.0   \n",
            "3  Recreation & Leisure            NaN   \n",
            "4                 Humor            0.0   \n",
            "\n",
            "                                                text     tweet_created  \\\n",
            "0  #NewYearsResolution _Áü to be more open min...    12/30/14 22:18   \n",
            "1  Be the best possible version of yourself and n...     12/28/14 7:14   \n",
            "2  #NewYearsResolution: stop trying. ---&gt;&gt; ...  01/01/2015 09:03   \n",
            "3  Back for more punishment. #sarasotalifestyle #...    12/27/14 14:38   \n",
            "4  Want to apologize to those affected by my brok...  01/02/2015 07:24   \n",
            "\n",
            "   tweet_date      tweet_id                  tweet_location tweet_state  \\\n",
            "0    12/30/14  5.500000e+17  Long Island, NY/Washington, DC          NY   \n",
            "1    12/28/14  5.490000e+17                  columbus, ohio          OH   \n",
            "2  01/01/2015  5.510000e+17                        brooklyn          NY   \n",
            "3    12/27/14  5.490000e+17                Sarasota Florida          FL   \n",
            "4  01/02/2015  5.510000e+17                        New York          NY   \n",
            "\n",
            "  tweet_region                                       cleaned_text  \\\n",
            "0    Northeast  newyearsresolution open minded trying new food...   \n",
            "1      Midwest  best possible version never settle begreat beb...   \n",
            "2    Northeast               newyearsresolution stop trying gt gt   \n",
            "3        South  back punishment sarasotalifestyle gettingfit n...   \n",
            "4    Northeast  want apologize affected broken new year resolu...   \n",
            "\n",
            "                                          sentiments  compound sentiment_type  \n",
            "0  {'neg': 0.252, 'neu': 0.748, 'pos': 0.0, 'comp...   -0.5719       NEGATIVE  \n",
            "1  {'neg': 0.0, 'neu': 0.625, 'pos': 0.375, 'comp...    0.6369       POSITIVE  \n",
            "2  {'neg': 0.262, 'neu': 0.238, 'pos': 0.5, 'comp...    0.2500       POSITIVE  \n",
            "3  {'neg': 0.283, 'neu': 0.531, 'pos': 0.186, 'co...   -0.2732       NEGATIVE  \n",
            "4  {'neg': 0.673, 'neu': 0.226, 'pos': 0.102, 'co...   -0.9531       NEGATIVE  \n"
          ]
        }
      ]
    },
    {
      "cell_type": "code",
      "source": [
        "# Save to a new CSV file\n",
        "balanced_df.to_csv('/content/drive/MyDrive/GoogleColab/web social media anlysis and visualization/new_balanced_sentiment_dataset.csv', index=False)\n",
        "\n",
        "\n"
      ],
      "metadata": {
        "id": "nM0bp564o_p2"
      },
      "execution_count": null,
      "outputs": []
    },
    {
      "cell_type": "code",
      "source": [
        "import pandas as pd\n",
        "import matplotlib.pyplot as plt\n",
        "\n",
        "# Load your CSV dataset into a DataFrame\n",
        "df = pd.read_csv(\"/content/drive/MyDrive/GoogleColab/web social media anlysis and visualization/new_balanced_sentiment_dataset.csv\")\n",
        "\n",
        "# Assuming your dataset has a column named 'sentiment' that contains binary values (0 or 1) indicating negatives and positives\n",
        "sentiment_counts = df['sentiment_type'].value_counts()\n",
        "\n",
        "# Plotting a pie chart\n",
        "plt.figure(figsize=(8, 6))\n",
        "plt.pie(sentiment_counts, labels=sentiment_counts.index, autopct='%1.1f%%', startangle=140)\n",
        "plt.title('Sentiment Distribution')\n",
        "plt.axis('equal')  # Equal aspect ratio ensures that pie is drawn as a circle.\n",
        "plt.show()\n"
      ],
      "metadata": {
        "colab": {
          "base_uri": "https://localhost:8080/",
          "height": 521
        },
        "id": "Leq5jW3u__ju",
        "outputId": "799f54ab-87c4-46aa-d07a-625ccc133abc"
      },
      "execution_count": null,
      "outputs": [
        {
          "output_type": "display_data",
          "data": {
            "text/plain": [
              "<Figure size 800x600 with 1 Axes>"
            ],
            "image/png": "[encoded data removed]"
          },
          "metadata": {}
        }
      ]
    },
    {
      "cell_type": "code",
      "source": [],
      "metadata": {
        "id": "eUyEaXdSpQuA"
      },
      "execution_count": null,
      "outputs": []
    }
  ]
}